{
 "cells": [
  {
   "cell_type": "code",
   "execution_count": 1,
   "id": "30e6b5dd",
   "metadata": {},
   "outputs": [
    {
     "name": "stderr",
     "output_type": "stream",
     "text": [
      "/tmp/ipykernel_57484/3541112836.py:2: UserWarning: \n",
      "The dash_core_components package is deprecated. Please replace\n",
      "`import dash_core_components as dcc` with `from dash import dcc`\n",
      "  import dash_core_components as dcc\n"
     ]
    },
    {
     "name": "stdout",
     "output_type": "stream",
     "text": [
      "importing Jupyter notebook from Engine.ipynb\n"
     ]
    }
   ],
   "source": [
    "import dash\n",
    "import dash_core_components as dcc\n",
    "from dash import html\n",
    "from dash.dependencies import Input, Output\n",
    "import plotly.express as px\n",
    "import random\n",
    "\n",
    "import import_ipynb\n",
    "from Engine import StatsMonitor"
   ]
  },
  {
   "cell_type": "code",
   "execution_count": null,
   "id": "0d4553a8",
   "metadata": {},
   "outputs": [],
   "source": [
    "# Create a Dash app\n",
    "app = dash.Dash(__name__)\n",
    "\n",
    "# Create a scatter plot using Plotly Express\n",
    "# fig = px.scatter(x=[], y=[])\n",
    "sm = StatsMonitor()\n",
    "fig = sm.update(10, 5)\n",
    "\n",
    "# Define the layout of the app\n",
    "app.layout = html.Div([\n",
    "    dcc.Graph(id='temperature_clock', figure=fig),\n",
    "    dcc.Interval(\n",
    "        id='update_interval',\n",
    "        interval=1, # Update the plot every 1000 milliseconds\n",
    "        n_intervals=0\n",
    "    )\n",
    "])\n",
    "\n",
    "# Define a callback function that updates the plot with new data\n",
    "@app.callback(Output('temperature_clock', 'figure'), [Input('update_interval', 'n_intervals')])\n",
    "def update_plot(n_intervals):\n",
    "    # Generate new data\n",
    "    fig = sm.update(10, 5)\n",
    "\n",
    "    return fig\n",
    "\n",
    "# Run the app\n",
    "if __name__ == '__main__':\n",
    "    app.run_server()"
   ]
  },
  {
   "cell_type": "code",
   "execution_count": null,
   "id": "722f530f",
   "metadata": {},
   "outputs": [],
   "source": []
  }
 ],
 "metadata": {
  "kernelspec": {
   "display_name": "Python 3 (ipykernel)",
   "language": "python",
   "name": "python3"
  },
  "language_info": {
   "codemirror_mode": {
    "name": "ipython",
    "version": 3
   },
   "file_extension": ".py",
   "mimetype": "text/x-python",
   "name": "python",
   "nbconvert_exporter": "python",
   "pygments_lexer": "ipython3",
   "version": "3.10.6"
  }
 },
 "nbformat": 4,
 "nbformat_minor": 5
}
